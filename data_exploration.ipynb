{
 "cells": [
  {
   "cell_type": "code",
   "execution_count": 55,
   "metadata": {
    "collapsed": true
   },
   "outputs": [],
   "source": [
    "import pandas as pd\n",
    "from math import pi, exp\n",
    "from numpy import exp, sqrt\n",
    "import matplotlib.pyplot as plt "
   ]
  },
  {
   "cell_type": "code",
   "execution_count": 13,
   "metadata": {
    "collapsed": true
   },
   "outputs": [],
   "source": [
    "columns = ['asia','tub','smoke','lung','bronc','either','xray','dysp']\n",
    "features = [\"has_visited_asia\", \"has_tuberculosis\", \"smoking\", \"has_lung_cancer\", \"has_bronchitis\", \"either_tuberculosis_or_cancer\", \"xray_result\", \"dyspnea\"]\n",
    "data = pd.read_csv(\"data/ASIA10k.csv\", names=features, header=1)"
   ]
  },
  {
   "cell_type": "markdown",
   "metadata": {},
   "source": []
  },
  {
   "cell_type": "code",
   "execution_count": 2,
   "metadata": {
    "collapsed": true
   },
   "outputs": [],
   "source": [
    "from scipy.stats import norm"
   ]
  },
  {
   "cell_type": "code",
   "execution_count": 52,
   "metadata": {
    "collapsed": true
   },
   "outputs": [],
   "source": [
    "data = pd.read_csv(\"data/iris.data\", header=0)"
   ]
  },
  {
   "cell_type": "code",
   "execution_count": 67,
   "metadata": {},
   "outputs": [
    {
     "data": {
      "text/plain": [
       "sepal_length_in_cm    float64\n",
       "sepal_width_in_cm     float64\n",
       "petal_length_in_cm    float64\n",
       "petal_width_in_cm     float64\n",
       "class                  object\n",
       "dtype: object"
      ]
     },
     "execution_count": 67,
     "metadata": {},
     "output_type": "execute_result"
    }
   ],
   "source": [
    "data.dtypes"
   ]
  },
  {
   "cell_type": "code",
   "execution_count": 5,
   "metadata": {
    "collapsed": true
   },
   "outputs": [],
   "source": [
    "def gaussian_distribution(x, mean, std):\n",
    "    return (1/(sqrt(2*pi)))*exp(-(x-mean)**2/(2*std**2)) "
   ]
  },
  {
   "cell_type": "code",
   "execution_count": 74,
   "metadata": {},
   "outputs": [
    {
     "data": {
      "text/plain": [
       "<matplotlib.axes._subplots.AxesSubplot at 0x121efa470>"
      ]
     },
     "execution_count": 74,
     "metadata": {},
     "output_type": "execute_result"
    }
   ],
   "source": [
    "data[\"petal_width_in_cm\"].hist()"
   ]
  },
  {
   "cell_type": "code",
   "execution_count": 75,
   "metadata": {},
   "outputs": [
    {
     "data": {
      "image/png": "[encoded data removed]",
      "text/plain": [
       "<matplotlib.figure.Figure at 0x12213f2b0>"
      ]
     },
     "metadata": {},
     "output_type": "display_data"
    }
   ],
   "source": [
    "plt.show()"
   ]
  },
  {
   "cell_type": "code",
   "execution_count": 84,
   "metadata": {},
   "outputs": [],
   "source": [
    "std = data.groupby(\"class\")[\"petal_width_in_cm\"].std().reset_index(name=\"petal_width_in_cm_std\")\n",
    "data = pd.merge(data, std, left_on=\"class\", right_on=\"class\")"
   ]
  },
  {
   "cell_type": "code",
   "execution_count": null,
   "metadata": {},
   "outputs": [],
   "source": []
  },
  {
   "cell_type": "code",
   "execution_count": 85,
   "metadata": {
    "collapsed": true
   },
   "outputs": [],
   "source": [
    "mean = data.groupby(\"class\")[\"petal_width_in_cm\"].mean().reset_index(name=\"petal_width_in_cm_mean\")\n",
    "data = pd.merge(data, mean, left_on=\"class\", right_on=\"class\")"
   ]
  },
  {
   "cell_type": "code",
   "execution_count": null,
   "metadata": {},
   "outputs": [],
   "source": []
  },
  {
   "cell_type": "code",
   "execution_count": 86,
   "metadata": {},
   "outputs": [],
   "source": [
    "data[\"petal_width_in_cm|class\"]=norm.pdf(data[\"petal_width_in_cm\"], loc=data[\"petal_width_in_cm_mean\"], scale=data[\"petal_width_in_cm_std\"])\n",
    "data.drop([\"petal_width_in_cm_mean\", \"petal_width_in_cm_std\"], axis=1, inplace=True)"
   ]
  },
  {
   "cell_type": "code",
   "execution_count": 87,
   "metadata": {},
   "outputs": [
    {
     "data": {
      "text/plain": [
       "1.0299326810758798"
      ]
     },
     "execution_count": 87,
     "metadata": {},
     "output_type": "execute_result"
    }
   ],
   "source": [
    "data[\"petal_width_in_cm|class\"].std()"
   ]
  },
  {
   "cell_type": "code",
   "execution_count": 88,
   "metadata": {},
   "outputs": [
    {
     "data": {
      "text/plain": [
       "<matplotlib.axes._subplots.AxesSubplot at 0x121abe588>"
      ]
     },
     "execution_count": 88,
     "metadata": {},
     "output_type": "execute_result"
    }
   ],
   "source": [
    "data[\"petal_width_in_cm|class\"].hist()"
   ]
  },
  {
   "cell_type": "code",
   "execution_count": 89,
   "metadata": {},
   "outputs": [
    {
     "data": {
      "image/png": "[encoded data removed]",
      "text/plain": [
       "<matplotlib.figure.Figure at 0x121c69978>"
      ]
     },
     "metadata": {},
     "output_type": "display_data"
    }
   ],
   "source": [
    "plt.show()"
   ]
  },
  {
   "cell_type": "code",
   "execution_count": null,
   "metadata": {
    "collapsed": true
   },
   "outputs": [],
   "source": []
  },
  {
   "cell_type": "code",
   "execution_count": 201,
   "metadata": {
    "collapsed": true
   },
   "outputs": [],
   "source": [
    "std = data.groupby(\"class\")[\"petal_length_in_cm\"].std().reset_index(name=\"petal_length_in_cm_std\")\n",
    "data = pd.merge(data, std, left_on=\"class\", right_on=\"class\")\n",
    "mean = data.groupby(\"class\")[\"petal_length_in_cm\"].mean().reset_index(name=\"petal_length_in_cm_mean\")\n",
    "data = pd.merge(data, mean, left_on=\"class\", right_on=\"class\")"
   ]
  },
  {
   "cell_type": "code",
   "execution_count": 202,
   "metadata": {
    "collapsed": true
   },
   "outputs": [],
   "source": [
    "data[\"petal_length_in_cm|class\"]=gaussian_distribution(data[\"petal_length_in_cm\"], data[\"petal_length_in_cm_mean\"], data[\"petal_length_in_cm_std\"])\n",
    "data.drop([\"petal_length_in_cm_mean\", \"petal_length_in_cm_std\"], axis=1, inplace=True)"
   ]
  },
  {
   "cell_type": "code",
   "execution_count": 203,
   "metadata": {
    "collapsed": true
   },
   "outputs": [],
   "source": [
    "std = data.groupby(\"class\")[\"sepal_width_in_cm\"].std().reset_index(name=\"sepal_width_in_cm_std\")\n",
    "data = pd.merge(data, std, left_on=\"class\", right_on=\"class\")\n",
    "mean = data.groupby(\"class\")[\"sepal_width_in_cm\"].mean().reset_index(name=\"sepal_width_in_cm_mean\")\n",
    "data = pd.merge(data, mean, left_on=\"class\", right_on=\"class\")"
   ]
  },
  {
   "cell_type": "code",
   "execution_count": 204,
   "metadata": {
    "collapsed": true
   },
   "outputs": [],
   "source": [
    "data[\"sepal_width_in_cm|class\"]=gaussian_distribution(data[\"sepal_width_in_cm\"], data[\"sepal_width_in_cm_mean\"], data[\"sepal_width_in_cm_std\"])\n",
    "data.drop([\"sepal_width_in_cm_mean\", \"sepal_width_in_cm_std\"], axis=1, inplace=True)"
   ]
  },
  {
   "cell_type": "code",
   "execution_count": 205,
   "metadata": {
    "collapsed": true
   },
   "outputs": [],
   "source": [
    "std = data.groupby(\"class\")[\"sepal_length_in_cm\"].std().reset_index(name=\"sepal_length_in_cm_std\")\n",
    "data = pd.merge(data, std, left_on=\"class\", right_on=\"class\")\n",
    "mean = data.groupby(\"class\")[\"sepal_length_in_cm\"].mean().reset_index(name=\"sepal_length_in_cm_mean\")\n",
    "data = pd.merge(data, mean, left_on=\"class\", right_on=\"class\")"
   ]
  },
  {
   "cell_type": "code",
   "execution_count": 206,
   "metadata": {
    "collapsed": true
   },
   "outputs": [],
   "source": [
    "data[\"sepal_length_in_cm|class\"]=gaussian_distribution(data[\"sepal_length_in_cm\"], data[\"sepal_length_in_cm_mean\"], data[\"sepal_length_in_cm_std\"])\n",
    "data.drop([\"sepal_length_in_cm_mean\", \"sepal_length_in_cm_std\"], axis=1, inplace=True)"
   ]
  },
  {
   "cell_type": "code",
   "execution_count": 207,
   "metadata": {},
   "outputs": [
    {
     "data": {
      "text/plain": [
       "0      0.020513\n",
       "1      0.011391\n",
       "2      0.008676\n",
       "3      0.008287\n",
       "4      0.019405\n",
       "         ...   \n",
       "145    0.012332\n",
       "146    0.004237\n",
       "147    0.020314\n",
       "148    0.005144\n",
       "149    0.007167\n",
       "Length: 150, dtype: float64"
      ]
     },
     "execution_count": 207,
     "metadata": {},
     "output_type": "execute_result"
    }
   ],
   "source": [
    "data[\"sepal_length_in_cm|class\"]*data[\"sepal_width_in_cm|class\"]*data[\"petal_length_in_cm|class\"]*data[\"petal_width_in_cm|class\"]"
   ]
  },
  {
   "cell_type": "code",
   "execution_count": null,
   "metadata": {
    "collapsed": true
   },
   "outputs": [],
   "source": []
  },
  {
   "cell_type": "code",
   "execution_count": null,
   "metadata": {
    "collapsed": true
   },
   "outputs": [],
   "source": []
  },
  {
   "cell_type": "code",
   "execution_count": 193,
   "metadata": {},
   "outputs": [
    {
     "data": {
      "text/plain": [
       "array([0.31007241, 0.31007241, 0.31007241, 0.31007241, 0.31007241,\n",
       "       0.14513573, 0.3417365 , 0.31007241, 0.31007241, 0.19083702,\n",
       "       0.31007241, 0.31007241, 0.19083702, 0.19083702, 0.31007241,\n",
       "       0.14513573, 0.14513573, 0.3417365 , 0.3417365 , 0.3417365 ,\n",
       "       0.31007241, 0.14513573, 0.31007241, 0.01968624, 0.31007241,\n",
       "       0.31007241, 0.14513573, 0.31007241, 0.31007241, 0.31007241,\n",
       "       0.31007241, 0.14513573, 0.19083702, 0.31007241, 0.19083702,\n",
       "       0.31007241, 0.31007241, 0.19083702, 0.31007241, 0.31007241,\n",
       "       0.3417365 , 0.3417365 , 0.31007241, 0.01204934, 0.14513573,\n",
       "       0.3417365 , 0.31007241, 0.31007241, 0.31007241, 0.31007241])"
      ]
     },
     "execution_count": 193,
     "metadata": {},
     "output_type": "execute_result"
    }
   ],
   "source": [
    "norm.pdf(data[data[\"class\"] == \"Iris-setosa\"][\"petal_width_in_cm|class\"], \n",
    "         loc=data[data[\"class\"] == \"Iris-setosa\"][\"petal_width_in_cm|class\"].mean(),\n",
    "        scale=data[data[\"class\"] == \"Iris-setosa\"][\"petal_width_in_cm|class\"].std())"
   ]
  },
  {
   "cell_type": "code",
   "execution_count": null,
   "metadata": {
    "collapsed": true
   },
   "outputs": [],
   "source": []
  }
 ],
 "metadata": {
  "kernelspec": {
   "display_name": "Python 3",
   "language": "python",
   "name": "python3"
  },
  "language_info": {
   "codemirror_mode": {
    "name": "ipython",
    "version": 3
   },
   "file_extension": ".py",
   "mimetype": "text/x-python",
   "name": "python",
   "nbconvert_exporter": "python",
   "pygments_lexer": "ipython3",
   "version": "3.6.1"
  }
 },
 "nbformat": 4,
 "nbformat_minor": 2
}
